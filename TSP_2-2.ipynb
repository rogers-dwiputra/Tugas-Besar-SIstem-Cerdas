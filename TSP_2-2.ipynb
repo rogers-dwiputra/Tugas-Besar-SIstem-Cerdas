{
  "nbformat": 4,
  "nbformat_minor": 0,
  "metadata": {
    "colab": {
      "name": "TSP-2.ipynb",
      "provenance": [],
      "collapsed_sections": []
    },
    "kernelspec": {
      "name": "python3",
      "display_name": "Python 3"
    }
  },
  "cells": [
    {
      "metadata": {
        "id": "6ZBn9g9mFICw"
      },
      "cell_type": "markdown",
      "source": [
        "#**Traveling Salesman Problem **\n",
        "\n",
        "\n",
        "## ## \n",
        "**\n",
        "\n",
        "\n",
        "\n",
        "\n"
      ]
    },
    {
      "metadata": {
        "id": "r1NWscSu0zP2"
      },
      "cell_type": "markdown",
      "source": [
        "The travelling salesman problem (TSP) asks the following question: \"Given a list of cities (all 50 state capitals) and the distances between each pair of cities, what is the shortest possible route that visits each city and returns to the origin city?"
      ]
    },
    {
      "metadata": {
        "id": "nssKGYT3c5th"
      },
      "cell_type": "markdown",
      "source": [
        " \n",
        " \n",
        " \n",
        " \n",
        "## **TSP Algorithm, connecting just random dots **\n",
        "\n",
        "https://stackoverflow.com/questions/25585401/travelling-salesman-in-scipy"
      ]
    },
    {
      "metadata": {
        "id": "b0v17qY4wRi1"
      },
      "cell_type": "markdown",
      "source": [
        ""
      ]
    },
    {
      "metadata": {
        "id": "6ADqDq8ymq_l"
      },
      "cell_type": "code",
      "source": [
        "import numpy as np\n",
        "\n",
        "# Calculate the euclidian distance in n-space of the route r traversing cities c, ending at the path start.\n",
        "path_distance = lambda r,c: np.sum([np.linalg.norm(c[r[p]]-c[r[p-1]]) for p in range(len(r))])\n",
        "\n",
        "\n",
        "# Reverse the order of all elements from element i to element k in array r.\n",
        "two_opt_swap = lambda r,i,k: np.concatenate((r[0:i],r[k:-len(r)+i-1:-1],r[k+1:len(r)]))\n",
        "\n",
        "def two_opt(cities,improvement_threshold): # 2-opt Algorithm adapted from https://en.wikipedia.org/wiki/2-opt\n",
        "    route = np.arange(cities.shape[0]) # Make an array of row numbers corresponding to cities.\n",
        "    improvement_factor = 1 # Initialize the improvement factor.\n",
        "    best_distance = path_distance(route,cities) # Calculate the distance of the initial path.\n",
        "    \n",
        "    while improvement_factor > improvement_threshold: # If the route is still improving, keep going!\n",
        "        distance_to_beat = best_distance # Record the distance at the beginning of the loop.\n",
        "        \n",
        "        for swap_first in range(1,len(route)-2): # From each city except the first and last,\n",
        "            for swap_last in range(swap_first+1,len(route)): # to each of the cities following,\n",
        "                new_route = two_opt_swap(route,swap_first,swap_last) # try reversing the order of these cities\n",
        "                new_distance = path_distance(new_route,cities) # and check the total distance with this modification.\n",
        "                \n",
        "                if new_distance < best_distance: # If the path distance is an improvement,\n",
        "                    route = new_route # make this the accepted best route\n",
        "                    best_distance = new_distance # and update the distance corresponding to this route.\n",
        "        improvement_factor = 1 - best_distance/distance_to_beat # Calculate how much the route has improved.\n",
        "    return route # When the route is no longer improving substantially, stop searching and return the route."
      ],
      "execution_count": 1,
      "outputs": []
    },
    {
      "metadata": {
        "id": "pd8H8cAicL1s"
      },
      "cell_type": "markdown",
      "source": [
        "# **Import csv with Longitude and Latitude of  the capitals**\n",
        "\n",
        "https://github.com/Albina1810/tsp/blob/master/cities50.csv\n"
      ]
    },
    {
      "metadata": {
        "id": "ICeg6g5uq_Tc",
        "outputId": "e5b0f71c-2dcb-4618-83fa-2632e8325bde",
        "colab": {
          "base_uri": "https://localhost:8080/"
        }
      },
      "cell_type": "code",
      "source": [
        "from google.colab import drive\n",
        "drive.mount('/content/drive/')\n"
      ],
      "execution_count": 21,
      "outputs": [
        {
          "output_type": "stream",
          "name": "stdout",
          "text": [
            "Drive already mounted at /content/drive/; to attempt to forcibly remount, call drive.mount(\"/content/drive/\", force_remount=True).\n"
          ]
        }
      ]
    },
    {
      "metadata": {
        "id": "Ncp_x-xhrNIm",
        "outputId": "9947f400-09f4-4643-821a-191ab0909c02",
        "colab": {
          "base_uri": "https://localhost:8080/",
          "height": 204
        }
      },
      "cell_type": "code",
      "source": [
        "import pandas as pd\n",
        "cities2= pd.read_csv(\"/content/drive/MyDrive/Python/data pelanggan pdam kab madiun 6 data.csv\")\n",
        "cities2.head(6)\n"
      ],
      "execution_count": 32,
      "outputs": [
        {
          "output_type": "execute_result",
          "data": {
            "text/html": [
              "\n",
              "  <div id=\"df-781ea0e6-518d-4733-8316-d09c31c60f36\">\n",
              "    <div class=\"colab-df-container\">\n",
              "      <div>\n",
              "<style scoped>\n",
              "    .dataframe tbody tr th:only-of-type {\n",
              "        vertical-align: middle;\n",
              "    }\n",
              "\n",
              "    .dataframe tbody tr th {\n",
              "        vertical-align: top;\n",
              "    }\n",
              "\n",
              "    .dataframe thead th {\n",
              "        text-align: right;\n",
              "    }\n",
              "</style>\n",
              "<table border=\"1\" class=\"dataframe\">\n",
              "  <thead>\n",
              "    <tr style=\"text-align: right;\">\n",
              "      <th></th>\n",
              "      <th>no_sambungan</th>\n",
              "      <th>nama_pelanggan</th>\n",
              "      <th>alamat_pelanggan</th>\n",
              "      <th>latitude_catat</th>\n",
              "      <th>longitude_catat</th>\n",
              "      <th>username_cater</th>\n",
              "    </tr>\n",
              "  </thead>\n",
              "  <tbody>\n",
              "    <tr>\n",
              "      <th>0</th>\n",
              "      <td>1000000235</td>\n",
              "      <td>ABDULLAH HASAN, H</td>\n",
              "      <td>JL.SETIA BHAKTI RT 14 JWN</td>\n",
              "      <td>-7.624358</td>\n",
              "      <td>111.489856</td>\n",
              "      <td>hendra</td>\n",
              "    </tr>\n",
              "    <tr>\n",
              "      <th>1</th>\n",
              "      <td>1000000322</td>\n",
              "      <td>SUKRI</td>\n",
              "      <td>JL.BRNJANGAN/17 RT 21 JWN</td>\n",
              "      <td>-7.626448</td>\n",
              "      <td>111.492113</td>\n",
              "      <td>hendra</td>\n",
              "    </tr>\n",
              "    <tr>\n",
              "      <th>2</th>\n",
              "      <td>1000000228</td>\n",
              "      <td>SUYANTO</td>\n",
              "      <td>JL.SETIA BHAKTI RT 31 JWN</td>\n",
              "      <td>-7.628417</td>\n",
              "      <td>111.494999</td>\n",
              "      <td>hendra</td>\n",
              "    </tr>\n",
              "    <tr>\n",
              "      <th>3</th>\n",
              "      <td>1000000222</td>\n",
              "      <td>MOCH YASIN</td>\n",
              "      <td>JL.ST.KARYA 18 RT 16 JWN</td>\n",
              "      <td>-7.625115</td>\n",
              "      <td>111.487091</td>\n",
              "      <td>hendra</td>\n",
              "    </tr>\n",
              "    <tr>\n",
              "      <th>4</th>\n",
              "      <td>1000000211</td>\n",
              "      <td>DJUMARI</td>\n",
              "      <td>JL.SETIA KARYA RT 16 JWN</td>\n",
              "      <td>-7.624613</td>\n",
              "      <td>111.486357</td>\n",
              "      <td>hendra</td>\n",
              "    </tr>\n",
              "  </tbody>\n",
              "</table>\n",
              "</div>\n",
              "      <button class=\"colab-df-convert\" onclick=\"convertToInteractive('df-781ea0e6-518d-4733-8316-d09c31c60f36')\"\n",
              "              title=\"Convert this dataframe to an interactive table.\"\n",
              "              style=\"display:none;\">\n",
              "        \n",
              "  <svg xmlns=\"http://www.w3.org/2000/svg\" height=\"24px\"viewBox=\"0 0 24 24\"\n",
              "       width=\"24px\">\n",
              "    <path d=\"M0 0h24v24H0V0z\" fill=\"none\"/>\n",
              "    <path d=\"M18.56 5.44l.94 2.06.94-2.06 2.06-.94-2.06-.94-.94-2.06-.94 2.06-2.06.94zm-11 1L8.5 8.5l.94-2.06 2.06-.94-2.06-.94L8.5 2.5l-.94 2.06-2.06.94zm10 10l.94 2.06.94-2.06 2.06-.94-2.06-.94-.94-2.06-.94 2.06-2.06.94z\"/><path d=\"M17.41 7.96l-1.37-1.37c-.4-.4-.92-.59-1.43-.59-.52 0-1.04.2-1.43.59L10.3 9.45l-7.72 7.72c-.78.78-.78 2.05 0 2.83L4 21.41c.39.39.9.59 1.41.59.51 0 1.02-.2 1.41-.59l7.78-7.78 2.81-2.81c.8-.78.8-2.07 0-2.86zM5.41 20L4 18.59l7.72-7.72 1.47 1.35L5.41 20z\"/>\n",
              "  </svg>\n",
              "      </button>\n",
              "      \n",
              "  <style>\n",
              "    .colab-df-container {\n",
              "      display:flex;\n",
              "      flex-wrap:wrap;\n",
              "      gap: 12px;\n",
              "    }\n",
              "\n",
              "    .colab-df-convert {\n",
              "      background-color: #E8F0FE;\n",
              "      border: none;\n",
              "      border-radius: 50%;\n",
              "      cursor: pointer;\n",
              "      display: none;\n",
              "      fill: #1967D2;\n",
              "      height: 32px;\n",
              "      padding: 0 0 0 0;\n",
              "      width: 32px;\n",
              "    }\n",
              "\n",
              "    .colab-df-convert:hover {\n",
              "      background-color: #E2EBFA;\n",
              "      box-shadow: 0px 1px 2px rgba(60, 64, 67, 0.3), 0px 1px 3px 1px rgba(60, 64, 67, 0.15);\n",
              "      fill: #174EA6;\n",
              "    }\n",
              "\n",
              "    [theme=dark] .colab-df-convert {\n",
              "      background-color: #3B4455;\n",
              "      fill: #D2E3FC;\n",
              "    }\n",
              "\n",
              "    [theme=dark] .colab-df-convert:hover {\n",
              "      background-color: #434B5C;\n",
              "      box-shadow: 0px 1px 3px 1px rgba(0, 0, 0, 0.15);\n",
              "      filter: drop-shadow(0px 1px 2px rgba(0, 0, 0, 0.3));\n",
              "      fill: #FFFFFF;\n",
              "    }\n",
              "  </style>\n",
              "\n",
              "      <script>\n",
              "        const buttonEl =\n",
              "          document.querySelector('#df-781ea0e6-518d-4733-8316-d09c31c60f36 button.colab-df-convert');\n",
              "        buttonEl.style.display =\n",
              "          google.colab.kernel.accessAllowed ? 'block' : 'none';\n",
              "\n",
              "        async function convertToInteractive(key) {\n",
              "          const element = document.querySelector('#df-781ea0e6-518d-4733-8316-d09c31c60f36');\n",
              "          const dataTable =\n",
              "            await google.colab.kernel.invokeFunction('convertToInteractive',\n",
              "                                                     [key], {});\n",
              "          if (!dataTable) return;\n",
              "\n",
              "          const docLinkHtml = 'Like what you see? Visit the ' +\n",
              "            '<a target=\"_blank\" href=https://colab.research.google.com/notebooks/data_table.ipynb>data table notebook</a>'\n",
              "            + ' to learn more about interactive tables.';\n",
              "          element.innerHTML = '';\n",
              "          dataTable['output_type'] = 'display_data';\n",
              "          await google.colab.output.renderOutput(dataTable, element);\n",
              "          const docLink = document.createElement('div');\n",
              "          docLink.innerHTML = docLinkHtml;\n",
              "          element.appendChild(docLink);\n",
              "        }\n",
              "      </script>\n",
              "    </div>\n",
              "  </div>\n",
              "  "
            ],
            "text/plain": [
              "   no_sambungan     nama_pelanggan  ... longitude_catat  username_cater\n",
              "0    1000000235  ABDULLAH HASAN, H  ...      111.489856          hendra\n",
              "1    1000000322              SUKRI  ...      111.492113          hendra\n",
              "2    1000000228            SUYANTO  ...      111.494999          hendra\n",
              "3    1000000222         MOCH YASIN  ...      111.487091          hendra\n",
              "4    1000000211            DJUMARI  ...      111.486357          hendra\n",
              "\n",
              "[5 rows x 6 columns]"
            ]
          },
          "metadata": {},
          "execution_count": 32
        }
      ]
    },
    {
      "metadata": {
        "id": "IOhXC8IRdZHW"
      },
      "cell_type": "markdown",
      "source": [
        "# **Converting Longitude and Latitude into Cartesian X and Y**\n",
        "\n",
        "** R of earth =6371 KM**\n",
        " \n",
        " \n",
        " x = R * cos( radiance(lat) ) * cos(radiance (lon))\n",
        " \n",
        " \n",
        " y = R * cos( radiance(lat) ) * sin(radiance (lon))\n",
        " \n",
        " \n",
        " http://www.geomidpoint.com/example.html\n",
        " \n",
        " \n",
        " \n"
      ]
    },
    {
      "metadata": {
        "id": "43nk2KwkYabX",
        "outputId": "a8f27334-8f64-4699-b770-bf5371372d43",
        "colab": {
          "base_uri": "https://localhost:8080/",
          "height": 248
        }
      },
      "cell_type": "code",
      "source": [
        "\n",
        "from math import radians,cos,sin\n",
        "\n",
        "lat =cities2[\"latitude_catat\"].map(radians)\n",
        "lon = cities2[\"longitude_catat\"].map(radians)\n",
        "x = lon.map(cos)*lat.map(cos)*6371\n",
        "y= lon.map(cos)*lat.map(sin)*6371\n",
        "\n",
        "cities2[\"lat_radians\"] = lat\n",
        "cities2[\"lon_radians\"] = lon\n",
        "cities2[\"x\"] = x\n",
        "cities2[\"y\"] = y\n",
        "cities2.head()"
      ],
      "execution_count": 33,
      "outputs": [
        {
          "output_type": "execute_result",
          "data": {
            "text/html": [
              "\n",
              "  <div id=\"df-66a68ff1-e2d3-483c-9b49-6fc173c6d274\">\n",
              "    <div class=\"colab-df-container\">\n",
              "      <div>\n",
              "<style scoped>\n",
              "    .dataframe tbody tr th:only-of-type {\n",
              "        vertical-align: middle;\n",
              "    }\n",
              "\n",
              "    .dataframe tbody tr th {\n",
              "        vertical-align: top;\n",
              "    }\n",
              "\n",
              "    .dataframe thead th {\n",
              "        text-align: right;\n",
              "    }\n",
              "</style>\n",
              "<table border=\"1\" class=\"dataframe\">\n",
              "  <thead>\n",
              "    <tr style=\"text-align: right;\">\n",
              "      <th></th>\n",
              "      <th>no_sambungan</th>\n",
              "      <th>nama_pelanggan</th>\n",
              "      <th>alamat_pelanggan</th>\n",
              "      <th>latitude_catat</th>\n",
              "      <th>longitude_catat</th>\n",
              "      <th>username_cater</th>\n",
              "      <th>lat_radians</th>\n",
              "      <th>lon_radians</th>\n",
              "      <th>x</th>\n",
              "      <th>y</th>\n",
              "    </tr>\n",
              "  </thead>\n",
              "  <tbody>\n",
              "    <tr>\n",
              "      <th>0</th>\n",
              "      <td>1000000235</td>\n",
              "      <td>ABDULLAH HASAN, H</td>\n",
              "      <td>JL.SETIA BHAKTI RT 14 JWN</td>\n",
              "      <td>-7.624358</td>\n",
              "      <td>111.489856</td>\n",
              "      <td>hendra</td>\n",
              "      <td>-0.133070</td>\n",
              "      <td>1.945865</td>\n",
              "      <td>-2313.296064</td>\n",
              "      <td>309.660614</td>\n",
              "    </tr>\n",
              "    <tr>\n",
              "      <th>1</th>\n",
              "      <td>1000000322</td>\n",
              "      <td>SUKRI</td>\n",
              "      <td>JL.BRNJANGAN/17 RT 21 JWN</td>\n",
              "      <td>-7.626448</td>\n",
              "      <td>111.492113</td>\n",
              "      <td>hendra</td>\n",
              "      <td>-0.133107</td>\n",
              "      <td>1.945904</td>\n",
              "      <td>-2313.516250</td>\n",
              "      <td>309.775996</td>\n",
              "    </tr>\n",
              "    <tr>\n",
              "      <th>2</th>\n",
              "      <td>1000000228</td>\n",
              "      <td>SUYANTO</td>\n",
              "      <td>JL.SETIA BHAKTI RT 31 JWN</td>\n",
              "      <td>-7.628417</td>\n",
              "      <td>111.494999</td>\n",
              "      <td>hendra</td>\n",
              "      <td>-0.133141</td>\n",
              "      <td>1.945955</td>\n",
              "      <td>-2313.801473</td>\n",
              "      <td>309.895111</td>\n",
              "    </tr>\n",
              "    <tr>\n",
              "      <th>3</th>\n",
              "      <td>1000000222</td>\n",
              "      <td>MOCH YASIN</td>\n",
              "      <td>JL.ST.KARYA 18 RT 16 JWN</td>\n",
              "      <td>-7.625115</td>\n",
              "      <td>111.487091</td>\n",
              "      <td>hendra</td>\n",
              "      <td>-0.133083</td>\n",
              "      <td>1.945817</td>\n",
              "      <td>-2313.008450</td>\n",
              "      <td>309.653225</td>\n",
              "    </tr>\n",
              "    <tr>\n",
              "      <th>4</th>\n",
              "      <td>1000000211</td>\n",
              "      <td>DJUMARI</td>\n",
              "      <td>JL.SETIA KARYA RT 16 JWN</td>\n",
              "      <td>-7.624613</td>\n",
              "      <td>111.486357</td>\n",
              "      <td>hendra</td>\n",
              "      <td>-0.133075</td>\n",
              "      <td>1.945804</td>\n",
              "      <td>-2312.935871</td>\n",
              "      <td>309.622860</td>\n",
              "    </tr>\n",
              "  </tbody>\n",
              "</table>\n",
              "</div>\n",
              "      <button class=\"colab-df-convert\" onclick=\"convertToInteractive('df-66a68ff1-e2d3-483c-9b49-6fc173c6d274')\"\n",
              "              title=\"Convert this dataframe to an interactive table.\"\n",
              "              style=\"display:none;\">\n",
              "        \n",
              "  <svg xmlns=\"http://www.w3.org/2000/svg\" height=\"24px\"viewBox=\"0 0 24 24\"\n",
              "       width=\"24px\">\n",
              "    <path d=\"M0 0h24v24H0V0z\" fill=\"none\"/>\n",
              "    <path d=\"M18.56 5.44l.94 2.06.94-2.06 2.06-.94-2.06-.94-.94-2.06-.94 2.06-2.06.94zm-11 1L8.5 8.5l.94-2.06 2.06-.94-2.06-.94L8.5 2.5l-.94 2.06-2.06.94zm10 10l.94 2.06.94-2.06 2.06-.94-2.06-.94-.94-2.06-.94 2.06-2.06.94z\"/><path d=\"M17.41 7.96l-1.37-1.37c-.4-.4-.92-.59-1.43-.59-.52 0-1.04.2-1.43.59L10.3 9.45l-7.72 7.72c-.78.78-.78 2.05 0 2.83L4 21.41c.39.39.9.59 1.41.59.51 0 1.02-.2 1.41-.59l7.78-7.78 2.81-2.81c.8-.78.8-2.07 0-2.86zM5.41 20L4 18.59l7.72-7.72 1.47 1.35L5.41 20z\"/>\n",
              "  </svg>\n",
              "      </button>\n",
              "      \n",
              "  <style>\n",
              "    .colab-df-container {\n",
              "      display:flex;\n",
              "      flex-wrap:wrap;\n",
              "      gap: 12px;\n",
              "    }\n",
              "\n",
              "    .colab-df-convert {\n",
              "      background-color: #E8F0FE;\n",
              "      border: none;\n",
              "      border-radius: 50%;\n",
              "      cursor: pointer;\n",
              "      display: none;\n",
              "      fill: #1967D2;\n",
              "      height: 32px;\n",
              "      padding: 0 0 0 0;\n",
              "      width: 32px;\n",
              "    }\n",
              "\n",
              "    .colab-df-convert:hover {\n",
              "      background-color: #E2EBFA;\n",
              "      box-shadow: 0px 1px 2px rgba(60, 64, 67, 0.3), 0px 1px 3px 1px rgba(60, 64, 67, 0.15);\n",
              "      fill: #174EA6;\n",
              "    }\n",
              "\n",
              "    [theme=dark] .colab-df-convert {\n",
              "      background-color: #3B4455;\n",
              "      fill: #D2E3FC;\n",
              "    }\n",
              "\n",
              "    [theme=dark] .colab-df-convert:hover {\n",
              "      background-color: #434B5C;\n",
              "      box-shadow: 0px 1px 3px 1px rgba(0, 0, 0, 0.15);\n",
              "      filter: drop-shadow(0px 1px 2px rgba(0, 0, 0, 0.3));\n",
              "      fill: #FFFFFF;\n",
              "    }\n",
              "  </style>\n",
              "\n",
              "      <script>\n",
              "        const buttonEl =\n",
              "          document.querySelector('#df-66a68ff1-e2d3-483c-9b49-6fc173c6d274 button.colab-df-convert');\n",
              "        buttonEl.style.display =\n",
              "          google.colab.kernel.accessAllowed ? 'block' : 'none';\n",
              "\n",
              "        async function convertToInteractive(key) {\n",
              "          const element = document.querySelector('#df-66a68ff1-e2d3-483c-9b49-6fc173c6d274');\n",
              "          const dataTable =\n",
              "            await google.colab.kernel.invokeFunction('convertToInteractive',\n",
              "                                                     [key], {});\n",
              "          if (!dataTable) return;\n",
              "\n",
              "          const docLinkHtml = 'Like what you see? Visit the ' +\n",
              "            '<a target=\"_blank\" href=https://colab.research.google.com/notebooks/data_table.ipynb>data table notebook</a>'\n",
              "            + ' to learn more about interactive tables.';\n",
              "          element.innerHTML = '';\n",
              "          dataTable['output_type'] = 'display_data';\n",
              "          await google.colab.output.renderOutput(dataTable, element);\n",
              "          const docLink = document.createElement('div');\n",
              "          docLink.innerHTML = docLinkHtml;\n",
              "          element.appendChild(docLink);\n",
              "        }\n",
              "      </script>\n",
              "    </div>\n",
              "  </div>\n",
              "  "
            ],
            "text/plain": [
              "   no_sambungan     nama_pelanggan  ...            x           y\n",
              "0    1000000235  ABDULLAH HASAN, H  ... -2313.296064  309.660614\n",
              "1    1000000322              SUKRI  ... -2313.516250  309.775996\n",
              "2    1000000228            SUYANTO  ... -2313.801473  309.895111\n",
              "3    1000000222         MOCH YASIN  ... -2313.008450  309.653225\n",
              "4    1000000211            DJUMARI  ... -2312.935871  309.622860\n",
              "\n",
              "[5 rows x 10 columns]"
            ]
          },
          "metadata": {},
          "execution_count": 33
        }
      ]
    },
    {
      "metadata": {
        "id": "eb9l-961zxYd",
        "outputId": "e8101715-9811-4e04-cae5-aceaa6ee54c7",
        "colab": {
          "base_uri": "https://localhost:8080/",
          "height": 204
        }
      },
      "cell_type": "code",
      "source": [
        "cities = cities2.drop([\"no_sambungan\", \"nama_pelanggan\", \"alamat_pelanggan\", \"latitude_catat\", \"longitude_catat\", \"username_cater\", \"lat_radians\", \"lon_radians\"], 1)\n",
        "cities.head(6)"
      ],
      "execution_count": 34,
      "outputs": [
        {
          "output_type": "execute_result",
          "data": {
            "text/html": [
              "\n",
              "  <div id=\"df-3a848757-ce05-4569-b2ab-0145da823c85\">\n",
              "    <div class=\"colab-df-container\">\n",
              "      <div>\n",
              "<style scoped>\n",
              "    .dataframe tbody tr th:only-of-type {\n",
              "        vertical-align: middle;\n",
              "    }\n",
              "\n",
              "    .dataframe tbody tr th {\n",
              "        vertical-align: top;\n",
              "    }\n",
              "\n",
              "    .dataframe thead th {\n",
              "        text-align: right;\n",
              "    }\n",
              "</style>\n",
              "<table border=\"1\" class=\"dataframe\">\n",
              "  <thead>\n",
              "    <tr style=\"text-align: right;\">\n",
              "      <th></th>\n",
              "      <th>x</th>\n",
              "      <th>y</th>\n",
              "    </tr>\n",
              "  </thead>\n",
              "  <tbody>\n",
              "    <tr>\n",
              "      <th>0</th>\n",
              "      <td>-2313.296064</td>\n",
              "      <td>309.660614</td>\n",
              "    </tr>\n",
              "    <tr>\n",
              "      <th>1</th>\n",
              "      <td>-2313.516250</td>\n",
              "      <td>309.775996</td>\n",
              "    </tr>\n",
              "    <tr>\n",
              "      <th>2</th>\n",
              "      <td>-2313.801473</td>\n",
              "      <td>309.895111</td>\n",
              "    </tr>\n",
              "    <tr>\n",
              "      <th>3</th>\n",
              "      <td>-2313.008450</td>\n",
              "      <td>309.653225</td>\n",
              "    </tr>\n",
              "    <tr>\n",
              "      <th>4</th>\n",
              "      <td>-2312.935871</td>\n",
              "      <td>309.622860</td>\n",
              "    </tr>\n",
              "  </tbody>\n",
              "</table>\n",
              "</div>\n",
              "      <button class=\"colab-df-convert\" onclick=\"convertToInteractive('df-3a848757-ce05-4569-b2ab-0145da823c85')\"\n",
              "              title=\"Convert this dataframe to an interactive table.\"\n",
              "              style=\"display:none;\">\n",
              "        \n",
              "  <svg xmlns=\"http://www.w3.org/2000/svg\" height=\"24px\"viewBox=\"0 0 24 24\"\n",
              "       width=\"24px\">\n",
              "    <path d=\"M0 0h24v24H0V0z\" fill=\"none\"/>\n",
              "    <path d=\"M18.56 5.44l.94 2.06.94-2.06 2.06-.94-2.06-.94-.94-2.06-.94 2.06-2.06.94zm-11 1L8.5 8.5l.94-2.06 2.06-.94-2.06-.94L8.5 2.5l-.94 2.06-2.06.94zm10 10l.94 2.06.94-2.06 2.06-.94-2.06-.94-.94-2.06-.94 2.06-2.06.94z\"/><path d=\"M17.41 7.96l-1.37-1.37c-.4-.4-.92-.59-1.43-.59-.52 0-1.04.2-1.43.59L10.3 9.45l-7.72 7.72c-.78.78-.78 2.05 0 2.83L4 21.41c.39.39.9.59 1.41.59.51 0 1.02-.2 1.41-.59l7.78-7.78 2.81-2.81c.8-.78.8-2.07 0-2.86zM5.41 20L4 18.59l7.72-7.72 1.47 1.35L5.41 20z\"/>\n",
              "  </svg>\n",
              "      </button>\n",
              "      \n",
              "  <style>\n",
              "    .colab-df-container {\n",
              "      display:flex;\n",
              "      flex-wrap:wrap;\n",
              "      gap: 12px;\n",
              "    }\n",
              "\n",
              "    .colab-df-convert {\n",
              "      background-color: #E8F0FE;\n",
              "      border: none;\n",
              "      border-radius: 50%;\n",
              "      cursor: pointer;\n",
              "      display: none;\n",
              "      fill: #1967D2;\n",
              "      height: 32px;\n",
              "      padding: 0 0 0 0;\n",
              "      width: 32px;\n",
              "    }\n",
              "\n",
              "    .colab-df-convert:hover {\n",
              "      background-color: #E2EBFA;\n",
              "      box-shadow: 0px 1px 2px rgba(60, 64, 67, 0.3), 0px 1px 3px 1px rgba(60, 64, 67, 0.15);\n",
              "      fill: #174EA6;\n",
              "    }\n",
              "\n",
              "    [theme=dark] .colab-df-convert {\n",
              "      background-color: #3B4455;\n",
              "      fill: #D2E3FC;\n",
              "    }\n",
              "\n",
              "    [theme=dark] .colab-df-convert:hover {\n",
              "      background-color: #434B5C;\n",
              "      box-shadow: 0px 1px 3px 1px rgba(0, 0, 0, 0.15);\n",
              "      filter: drop-shadow(0px 1px 2px rgba(0, 0, 0, 0.3));\n",
              "      fill: #FFFFFF;\n",
              "    }\n",
              "  </style>\n",
              "\n",
              "      <script>\n",
              "        const buttonEl =\n",
              "          document.querySelector('#df-3a848757-ce05-4569-b2ab-0145da823c85 button.colab-df-convert');\n",
              "        buttonEl.style.display =\n",
              "          google.colab.kernel.accessAllowed ? 'block' : 'none';\n",
              "\n",
              "        async function convertToInteractive(key) {\n",
              "          const element = document.querySelector('#df-3a848757-ce05-4569-b2ab-0145da823c85');\n",
              "          const dataTable =\n",
              "            await google.colab.kernel.invokeFunction('convertToInteractive',\n",
              "                                                     [key], {});\n",
              "          if (!dataTable) return;\n",
              "\n",
              "          const docLinkHtml = 'Like what you see? Visit the ' +\n",
              "            '<a target=\"_blank\" href=https://colab.research.google.com/notebooks/data_table.ipynb>data table notebook</a>'\n",
              "            + ' to learn more about interactive tables.';\n",
              "          element.innerHTML = '';\n",
              "          dataTable['output_type'] = 'display_data';\n",
              "          await google.colab.output.renderOutput(dataTable, element);\n",
              "          const docLink = document.createElement('div');\n",
              "          docLink.innerHTML = docLinkHtml;\n",
              "          element.appendChild(docLink);\n",
              "        }\n",
              "      </script>\n",
              "    </div>\n",
              "  </div>\n",
              "  "
            ],
            "text/plain": [
              "             x           y\n",
              "0 -2313.296064  309.660614\n",
              "1 -2313.516250  309.775996\n",
              "2 -2313.801473  309.895111\n",
              "3 -2313.008450  309.653225\n",
              "4 -2312.935871  309.622860"
            ]
          },
          "metadata": {},
          "execution_count": 34
        }
      ]
    },
    {
      "metadata": {
        "id": "ShdMGySooa9d"
      },
      "cell_type": "code",
      "source": [
        "df = cities.copy()\n",
        "\n"
      ],
      "execution_count": 35,
      "outputs": []
    },
    {
      "metadata": {
        "id": "wEP8wU5SoWj4"
      },
      "cell_type": "code",
      "source": [
        "from sklearn.preprocessing import MinMaxScaler\n",
        "scaler = MinMaxScaler(feature_range=(0, 100), copy=True)\n",
        "scaled_df = scaler.fit_transform(df)\n",
        "scaled_df = pd.DataFrame(scaled_df, columns=['x1', 'x2'])\n",
        "\n"
      ],
      "execution_count": 36,
      "outputs": []
    },
    {
      "metadata": {
        "id": "ZbN-z0dL0JHL"
      },
      "cell_type": "code",
      "source": [
        "cities = np.asarray(cities)\n"
      ],
      "execution_count": 37,
      "outputs": []
    },
    {
      "metadata": {
        "id": "Ovyt2jxlqzwb"
      },
      "cell_type": "code",
      "source": [
        "scaled = np.asarray(scaled_df)\n"
      ],
      "execution_count": 38,
      "outputs": []
    },
    {
      "metadata": {
        "id": "P2R-RlP90Zrr",
        "outputId": "e609e806-09f8-417c-e325-efb70c400d7e",
        "colab": {
          "base_uri": "https://localhost:8080/"
        }
      },
      "cell_type": "code",
      "source": [
        "# Find a good route with 2-opt (\"route\" gives the order in which to travel to each city by row number.)\n",
        "route = two_opt(scaled,0.001)\n",
        "route"
      ],
      "execution_count": 39,
      "outputs": [
        {
          "output_type": "execute_result",
          "data": {
            "text/plain": [
              "array([0, 1, 2, 3, 4])"
            ]
          },
          "metadata": {},
          "execution_count": 39
        }
      ]
    },
    {
      "metadata": {
        "id": "qMO6dMWb1J9Z",
        "outputId": "6e93b9ae-e4db-41af-af44-a42976b38b51",
        "colab": {
          "base_uri": "https://localhost:8080/",
          "height": 316
        }
      },
      "cell_type": "code",
      "source": [
        "#PLOT IN CARTESIAN \n",
        "\n",
        "\n",
        "import matplotlib.pyplot as plt\n",
        "# Reorder the cities matrix by route order in a new matrix for plotting.\n",
        "new_cities_order = np.concatenate((np.array([scaled[route[i]] for i in range(len(route))]),np.array([scaled[0]])))\n",
        "# Plot the cities.\n",
        "plt.scatter(scaled[:,0],scaled[:,1])\n",
        "# Plot the path.\n",
        "plt.plot(new_cities_order[:,0],new_cities_order[:,1])\n",
        "plt.show()\n",
        "# Print the route as row numbers and the total distance travelled by the path.\n",
        "print(\"Route: \" + str(route) + \"\\n\\nDistance_scaled: \" + str(path_distance(route,scaled)))\n"
      ],
      "execution_count": 40,
      "outputs": [
        {
          "output_type": "display_data",
          "data": {
            "image/png": "[encoded data removed]",
            "text/plain": [
              "<Figure size 432x288 with 1 Axes>"
            ]
          },
          "metadata": {
            "needs_background": "light"
          }
        },
        {
          "output_type": "stream",
          "name": "stdout",
          "text": [
            "Route: [0 1 2 3 4]\n",
            "\n",
            "Distance_scaled: 289.63683602005835\n"
          ]
        }
      ]
    },
    {
      "metadata": {
        "id": "HeI-GPwyupE3",
        "outputId": "fd926f39-c436-4a06-cc09-78ad1f3d39e6",
        "colab": {
          "base_uri": "https://localhost:8080/"
        }
      },
      "cell_type": "code",
      "source": [
        "#unit of scale = ()Max (Lng or Lat) - Min(Lng or Lat)) /100\n",
        "#unit of scale = 53.31km\n",
        "\n",
        "Distance_km = path_distance(route,scaled) * 53.31\n",
        "Distance_km"
      ],
      "execution_count": 44,
      "outputs": [
        {
          "output_type": "execute_result",
          "data": {
            "text/plain": [
              "15440.53972822931"
            ]
          },
          "metadata": {},
          "execution_count": 44
        }
      ]
    },
    {
      "metadata": {
        "id": "LuNNQKnpQ5tS"
      },
      "cell_type": "markdown",
      "source": [
        "THUS, Distance is 16,839 km"
      ]
    },
    {
      "metadata": {
        "id": "NTl5Qhzi1Kn4"
      },
      "cell_type": "code",
      "source": [
        "order = pd.DataFrame(route, columns=[\"index\"])\n",
        "cities2[\"index\"] = cities2.index\n",
        "cities2\n",
        "travel=order.merge(cities2, on = \"index\")\n",
        "\n",
        "\n"
      ],
      "execution_count": 45,
      "outputs": []
    },
    {
      "metadata": {
        "id": "efGOJSVFB80t",
        "outputId": "21198c90-c33d-4b33-f150-ece7c17dd789",
        "colab": {
          "base_uri": "https://localhost:8080/",
          "height": 381
        }
      },
      "cell_type": "code",
      "source": [
        "\n",
        "start= travel[0:1]\n",
        "loop = travel.append(start)\n",
        "loop\n"
      ],
      "execution_count": 46,
      "outputs": [
        {
          "output_type": "execute_result",
          "data": {
            "text/html": [
              "\n",
              "  <div id=\"df-a1dc4dc9-8b74-4880-adc7-813a4a31e7c3\">\n",
              "    <div class=\"colab-df-container\">\n",
              "      <div>\n",
              "<style scoped>\n",
              "    .dataframe tbody tr th:only-of-type {\n",
              "        vertical-align: middle;\n",
              "    }\n",
              "\n",
              "    .dataframe tbody tr th {\n",
              "        vertical-align: top;\n",
              "    }\n",
              "\n",
              "    .dataframe thead th {\n",
              "        text-align: right;\n",
              "    }\n",
              "</style>\n",
              "<table border=\"1\" class=\"dataframe\">\n",
              "  <thead>\n",
              "    <tr style=\"text-align: right;\">\n",
              "      <th></th>\n",
              "      <th>index</th>\n",
              "      <th>no_sambungan</th>\n",
              "      <th>nama_pelanggan</th>\n",
              "      <th>alamat_pelanggan</th>\n",
              "      <th>latitude_catat</th>\n",
              "      <th>longitude_catat</th>\n",
              "      <th>username_cater</th>\n",
              "      <th>lat_radians</th>\n",
              "      <th>lon_radians</th>\n",
              "      <th>x</th>\n",
              "      <th>y</th>\n",
              "    </tr>\n",
              "  </thead>\n",
              "  <tbody>\n",
              "    <tr>\n",
              "      <th>0</th>\n",
              "      <td>0</td>\n",
              "      <td>1000000235</td>\n",
              "      <td>ABDULLAH HASAN, H</td>\n",
              "      <td>JL.SETIA BHAKTI RT 14 JWN</td>\n",
              "      <td>-7.624358</td>\n",
              "      <td>111.489856</td>\n",
              "      <td>hendra</td>\n",
              "      <td>-0.133070</td>\n",
              "      <td>1.945865</td>\n",
              "      <td>-2313.296064</td>\n",
              "      <td>309.660614</td>\n",
              "    </tr>\n",
              "    <tr>\n",
              "      <th>1</th>\n",
              "      <td>1</td>\n",
              "      <td>1000000322</td>\n",
              "      <td>SUKRI</td>\n",
              "      <td>JL.BRNJANGAN/17 RT 21 JWN</td>\n",
              "      <td>-7.626448</td>\n",
              "      <td>111.492113</td>\n",
              "      <td>hendra</td>\n",
              "      <td>-0.133107</td>\n",
              "      <td>1.945904</td>\n",
              "      <td>-2313.516250</td>\n",
              "      <td>309.775996</td>\n",
              "    </tr>\n",
              "    <tr>\n",
              "      <th>2</th>\n",
              "      <td>2</td>\n",
              "      <td>1000000228</td>\n",
              "      <td>SUYANTO</td>\n",
              "      <td>JL.SETIA BHAKTI RT 31 JWN</td>\n",
              "      <td>-7.628417</td>\n",
              "      <td>111.494999</td>\n",
              "      <td>hendra</td>\n",
              "      <td>-0.133141</td>\n",
              "      <td>1.945955</td>\n",
              "      <td>-2313.801473</td>\n",
              "      <td>309.895111</td>\n",
              "    </tr>\n",
              "    <tr>\n",
              "      <th>3</th>\n",
              "      <td>3</td>\n",
              "      <td>1000000222</td>\n",
              "      <td>MOCH YASIN</td>\n",
              "      <td>JL.ST.KARYA 18 RT 16 JWN</td>\n",
              "      <td>-7.625115</td>\n",
              "      <td>111.487091</td>\n",
              "      <td>hendra</td>\n",
              "      <td>-0.133083</td>\n",
              "      <td>1.945817</td>\n",
              "      <td>-2313.008450</td>\n",
              "      <td>309.653225</td>\n",
              "    </tr>\n",
              "    <tr>\n",
              "      <th>4</th>\n",
              "      <td>4</td>\n",
              "      <td>1000000211</td>\n",
              "      <td>DJUMARI</td>\n",
              "      <td>JL.SETIA KARYA RT 16 JWN</td>\n",
              "      <td>-7.624613</td>\n",
              "      <td>111.486357</td>\n",
              "      <td>hendra</td>\n",
              "      <td>-0.133075</td>\n",
              "      <td>1.945804</td>\n",
              "      <td>-2312.935871</td>\n",
              "      <td>309.622860</td>\n",
              "    </tr>\n",
              "    <tr>\n",
              "      <th>0</th>\n",
              "      <td>0</td>\n",
              "      <td>1000000235</td>\n",
              "      <td>ABDULLAH HASAN, H</td>\n",
              "      <td>JL.SETIA BHAKTI RT 14 JWN</td>\n",
              "      <td>-7.624358</td>\n",
              "      <td>111.489856</td>\n",
              "      <td>hendra</td>\n",
              "      <td>-0.133070</td>\n",
              "      <td>1.945865</td>\n",
              "      <td>-2313.296064</td>\n",
              "      <td>309.660614</td>\n",
              "    </tr>\n",
              "  </tbody>\n",
              "</table>\n",
              "</div>\n",
              "      <button class=\"colab-df-convert\" onclick=\"convertToInteractive('df-a1dc4dc9-8b74-4880-adc7-813a4a31e7c3')\"\n",
              "              title=\"Convert this dataframe to an interactive table.\"\n",
              "              style=\"display:none;\">\n",
              "        \n",
              "  <svg xmlns=\"http://www.w3.org/2000/svg\" height=\"24px\"viewBox=\"0 0 24 24\"\n",
              "       width=\"24px\">\n",
              "    <path d=\"M0 0h24v24H0V0z\" fill=\"none\"/>\n",
              "    <path d=\"M18.56 5.44l.94 2.06.94-2.06 2.06-.94-2.06-.94-.94-2.06-.94 2.06-2.06.94zm-11 1L8.5 8.5l.94-2.06 2.06-.94-2.06-.94L8.5 2.5l-.94 2.06-2.06.94zm10 10l.94 2.06.94-2.06 2.06-.94-2.06-.94-.94-2.06-.94 2.06-2.06.94z\"/><path d=\"M17.41 7.96l-1.37-1.37c-.4-.4-.92-.59-1.43-.59-.52 0-1.04.2-1.43.59L10.3 9.45l-7.72 7.72c-.78.78-.78 2.05 0 2.83L4 21.41c.39.39.9.59 1.41.59.51 0 1.02-.2 1.41-.59l7.78-7.78 2.81-2.81c.8-.78.8-2.07 0-2.86zM5.41 20L4 18.59l7.72-7.72 1.47 1.35L5.41 20z\"/>\n",
              "  </svg>\n",
              "      </button>\n",
              "      \n",
              "  <style>\n",
              "    .colab-df-container {\n",
              "      display:flex;\n",
              "      flex-wrap:wrap;\n",
              "      gap: 12px;\n",
              "    }\n",
              "\n",
              "    .colab-df-convert {\n",
              "      background-color: #E8F0FE;\n",
              "      border: none;\n",
              "      border-radius: 50%;\n",
              "      cursor: pointer;\n",
              "      display: none;\n",
              "      fill: #1967D2;\n",
              "      height: 32px;\n",
              "      padding: 0 0 0 0;\n",
              "      width: 32px;\n",
              "    }\n",
              "\n",
              "    .colab-df-convert:hover {\n",
              "      background-color: #E2EBFA;\n",
              "      box-shadow: 0px 1px 2px rgba(60, 64, 67, 0.3), 0px 1px 3px 1px rgba(60, 64, 67, 0.15);\n",
              "      fill: #174EA6;\n",
              "    }\n",
              "\n",
              "    [theme=dark] .colab-df-convert {\n",
              "      background-color: #3B4455;\n",
              "      fill: #D2E3FC;\n",
              "    }\n",
              "\n",
              "    [theme=dark] .colab-df-convert:hover {\n",
              "      background-color: #434B5C;\n",
              "      box-shadow: 0px 1px 3px 1px rgba(0, 0, 0, 0.15);\n",
              "      filter: drop-shadow(0px 1px 2px rgba(0, 0, 0, 0.3));\n",
              "      fill: #FFFFFF;\n",
              "    }\n",
              "  </style>\n",
              "\n",
              "      <script>\n",
              "        const buttonEl =\n",
              "          document.querySelector('#df-a1dc4dc9-8b74-4880-adc7-813a4a31e7c3 button.colab-df-convert');\n",
              "        buttonEl.style.display =\n",
              "          google.colab.kernel.accessAllowed ? 'block' : 'none';\n",
              "\n",
              "        async function convertToInteractive(key) {\n",
              "          const element = document.querySelector('#df-a1dc4dc9-8b74-4880-adc7-813a4a31e7c3');\n",
              "          const dataTable =\n",
              "            await google.colab.kernel.invokeFunction('convertToInteractive',\n",
              "                                                     [key], {});\n",
              "          if (!dataTable) return;\n",
              "\n",
              "          const docLinkHtml = 'Like what you see? Visit the ' +\n",
              "            '<a target=\"_blank\" href=https://colab.research.google.com/notebooks/data_table.ipynb>data table notebook</a>'\n",
              "            + ' to learn more about interactive tables.';\n",
              "          element.innerHTML = '';\n",
              "          dataTable['output_type'] = 'display_data';\n",
              "          await google.colab.output.renderOutput(dataTable, element);\n",
              "          const docLink = document.createElement('div');\n",
              "          docLink.innerHTML = docLinkHtml;\n",
              "          element.appendChild(docLink);\n",
              "        }\n",
              "      </script>\n",
              "    </div>\n",
              "  </div>\n",
              "  "
            ],
            "text/plain": [
              "   index  no_sambungan     nama_pelanggan  ... lon_radians            x           y\n",
              "0      0    1000000235  ABDULLAH HASAN, H  ...    1.945865 -2313.296064  309.660614\n",
              "1      1    1000000322              SUKRI  ...    1.945904 -2313.516250  309.775996\n",
              "2      2    1000000228            SUYANTO  ...    1.945955 -2313.801473  309.895111\n",
              "3      3    1000000222         MOCH YASIN  ...    1.945817 -2313.008450  309.653225\n",
              "4      4    1000000211            DJUMARI  ...    1.945804 -2312.935871  309.622860\n",
              "0      0    1000000235  ABDULLAH HASAN, H  ...    1.945865 -2313.296064  309.660614\n",
              "\n",
              "[6 rows x 11 columns]"
            ]
          },
          "metadata": {},
          "execution_count": 46
        }
      ]
    },
    {
      "metadata": {
        "id": "TA_2-mOD-z5f",
        "outputId": "c9225e21-e713-4add-9fea-83699be0604c",
        "colab": {
          "base_uri": "https://localhost:8080/",
          "height": 297
        }
      },
      "cell_type": "code",
      "source": [
        "#PLOT IN LONGITUDE AND LATITUDE\n",
        "\n",
        "\n",
        "loop.plot(kind=\"line\", x=\"longitude_catat\", y=\"latitude_catat\")"
      ],
      "execution_count": 48,
      "outputs": [
        {
          "output_type": "execute_result",
          "data": {
            "text/plain": [
              "<matplotlib.axes._subplots.AxesSubplot at 0x7f40249ef610>"
            ]
          },
          "metadata": {},
          "execution_count": 48
        },
        {
          "output_type": "display_data",
          "data": {
            "image/png": "[encoded data removed]",
            "text/plain": [
              "<Figure size 432x288 with 1 Axes>"
            ]
          },
          "metadata": {
            "needs_background": "light"
          }
        }
      ]
    },
    {
      "metadata": {
        "id": "yZnsv6caISQn"
      },
      "cell_type": "code",
      "source": [
        "#WRITING CSV FILE WITH route\n",
        "\n",
        "tsp = loop[[\"latitude_catat\", \"longitude_catat\"]]\n",
        "\n",
        "tsp.to_csv('tsp.csv', index=False)\n",
        "\n",
        "from google.colab import files\n",
        "files.download(\"tsp.csv\")\n",
        "\n",
        "\n",
        "\n"
      ],
      "execution_count": null,
      "outputs": []
    },
    {
      "metadata": {
        "id": "JZhzb39R0Cre"
      },
      "cell_type": "markdown",
      "source": [
        "csv file dowloaded: https://github.com/Albina1810/tsp/blob/master/tsp.csv\n",
        "\n",
        "upload csv file with latitude and longitude here for visualization: http://www.gpsvisualizer.com/draw/ "
      ]
    },
    {
      "metadata": {
        "id": "WkVE3Qz9NDz7"
      },
      "cell_type": "markdown",
      "source": [
        "![alt text](https://pbs.twimg.com/media/D0optu0U0AEC4WN.jpg:large)"
      ]
    },
    {
      "metadata": {
        "id": "dg1pGu-D8gQy"
      },
      "cell_type": "markdown",
      "source": [
        "# **CONCLUSION **\n",
        "\n",
        " 2-opt  swap algorithm was used.\n",
        " \n",
        "\n",
        "**The shortest distance is 16,800 km**\n",
        "\n",
        "**The route goes through the capitals of the following states**( Alabama, Illinois, Mississippi, Missouri, Minnesota, Iowa, Kansas, Nebraska, South Dakota, North Dakota, Montana, Idaho, Oregon, Washington, Alaska, Hawaii, California, Nevada, Utah, Arizona, New Mexico, Colorado, Wyoming, Oklahoma, Texas, Arkansas, Lousiana, Wisconsin, Tennessee, Indiana, Kentucky, Michigan, Ohio, West Virginia, New York, Vermont, New Hampshire, Maine, Massachusetts, Rhode Island, Connecticut, New Jersey, Delaware, Maryland, Virginia, North Carolina, South Carolina, Georgia, Florida, Alabama)\n",
        "\n",
        "\n"
      ]
    }
  ]
}