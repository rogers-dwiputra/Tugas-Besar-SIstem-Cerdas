{
  "nbformat": 4,
  "nbformat_minor": 0,
  "metadata": {
    "colab": {
      "name": "Tubes Sistem Cerdas.ipynb",
      "provenance": [],
      "collapsed_sections": [],
      "authorship_tag": "ABX9TyPqedWH2dx6C6bCU/k9AO0v",
      "include_colab_link": true
    },
    "kernelspec": {
      "name": "python3",
      "display_name": "Python 3"
    },
    "language_info": {
      "name": "python"
    }
  },
  "cells": [
    {
      "cell_type": "markdown",
      "metadata": {
        "id": "view-in-github",
        "colab_type": "text"
      },
      "source": [
        "<a href=\"https://colab.research.google.com/github/rogers-dwiputra/Tugas-Besar-SIstem-Cerdas/blob/main/Tubes_Sistem_Cerdas.ipynb\" target=\"_parent\"><img src=\"https://colab.research.google.com/assets/colab-badge.svg\" alt=\"Open In Colab\"/></a>"
      ]
    },
    {
      "cell_type": "code",
      "source": [
        "# Imports\n",
        "%matplotlib inline\n",
        "import matplotlib.pyplot as plt\n",
        "import random\n",
        "from time        import process_time \n",
        "from itertools   import permutations, combinations\n",
        "from functools   import lru_cache as cache\n",
        "from collections import Counter\n",
        "from statistics  import mean, median"
      ],
      "metadata": {
        "id": "wEe87xy-aaOA"
      },
      "execution_count": 11,
      "outputs": []
    },
    {
      "cell_type": "code",
      "source": [
        "#Definisikan data Cities (random) bagian ini yang harus kita ganti menjadi data pelanggan dari PDAM\n",
        "\n",
        "alltours = permutations \n",
        "\n",
        "def tour_length(tour):\n",
        "    \"\"\"The total of distances between each pair of consecutive cities in the tour.\n",
        "    This includes the last-to-first, distance(tour[-1], tour[0])\"\"\"\n",
        "    return sum(distance(tour[i - 1], tour[i]) \n",
        "               for i in range(len(tour)))\n",
        "\n",
        "City = complex\n",
        "\n",
        "def distance(A, B): return abs(A - B)\n",
        "\n",
        "def Cities(n, seed=123, width=999, height=666):\n",
        "    \"Make a set of n cities, sampled uniformly from a (width x height) rectangle.\"\n",
        "    random.seed((n, seed))\n",
        "    return frozenset(City(random.randint(1, width), random.randint(1, height))\n",
        "                     for c in range(n))"
      ],
      "metadata": {
        "id": "Z07TdwFKa6nB"
      },
      "execution_count": 12,
      "outputs": []
    },
    {
      "cell_type": "code",
      "source": [
        "#Definisikan fungsi untuk Plot Tampilan, fungsi ini tidak kita pakai lagi kalau sudah menggunakan data PDAM, kita akan menggunakan tampilan dari Google Maps\n",
        "\n",
        "def plot_tour(tour, style='bo-'): \n",
        "    \"Plot every city and link in the tour, and highlight start city.\"\n",
        "    if len(tour) > 1000: plt.figure(figsize=(15, 10))\n",
        "    start = tour[0:1]\n",
        "    plot_segment(tour + start, style)\n",
        "    plot_segment(start, 'rD') # start city is red Diamond.\n",
        "\n",
        "def plot_segment(segment, style='bo-'):\n",
        "    \"Plot every city and link in the segment.\"\n",
        "    plt.plot([X(c) for c in segment], [Y(c) for c in segment], style, clip_on=False)\n",
        "    plt.axis('scaled')\n",
        "    plt.axis('off')\n",
        "\n",
        "def X(city): \"X coordinate.\"; return city.real\n",
        "def Y(city): \"Y coordinate.\"; return city.imag"
      ],
      "metadata": {
        "id": "sAUDr68-bvke"
      },
      "execution_count": 20,
      "outputs": []
    },
    {
      "cell_type": "code",
      "source": [
        "#Function do (bawaan dari contoh kodingan, ini melakukan perhitungan waktu proses, panggil nama algorimanya dan plot tampilan)\n",
        "\n",
        "def do(algorithm, cities):\n",
        "    \"Apply a TSP algorithm to cities, plot the result, and print info.\"\n",
        "    t0   = process_time()\n",
        "    tour = algorithm(cities)\n",
        "    t1   = process_time()\n",
        "    assert Counter(tour) == Counter(cities) # Every city appears exactly once in tour\n",
        "    plot_tour(tour)\n",
        "    print(\"{}: {} cities ⇒ tour length {:.0f} (in {:.3f} sec)\".format(\n",
        "          name(algorithm), len(tour), tour_length(tour), t1 - t0))\n",
        "    \n",
        "def name(algorithm): return algorithm.__name__.replace('_tsp', '')"
      ],
      "metadata": {
        "id": "bcTVpdnsapav"
      },
      "execution_count": 13,
      "outputs": []
    },
    {
      "cell_type": "code",
      "execution_count": 14,
      "metadata": {
        "id": "4yPR0HHGaIsx"
      },
      "outputs": [],
      "source": [
        "#Function Nearest Neighbor, ini inti dari Tubes kita\n",
        "\n",
        "def nn_tsp(cities, start=None):\n",
        "    \"\"\"Start the tour at the given start city (default: first city); \n",
        "    at each step extend the tour by moving from the previous city \n",
        "    to its nearest neighbor that has not yet been visited.\"\"\"\n",
        "    C = start or first(cities)\n",
        "    tour = [C]\n",
        "    unvisited = set(cities - {C})\n",
        "    while unvisited:\n",
        "        C = nearest_neighbor(C, unvisited)\n",
        "        tour.append(C)\n",
        "        unvisited.remove(C)\n",
        "    return tour\n",
        "\n",
        "def first(collection): return next(iter(collection))\n",
        "\n",
        "def nearest_neighbor(A, cities):\n",
        "    \"Find the city in cities that is nearest to city A.\"\n",
        "    return min(cities, key=lambda C: distance(C, A))"
      ]
    },
    {
      "cell_type": "code",
      "source": [
        "#Panggil Functionnya disini\n",
        "\n",
        "do(nn_tsp, Cities(10))"
      ],
      "metadata": {
        "colab": {
          "base_uri": "https://localhost:8080/",
          "height": 228
        },
        "id": "BhRw6ZlBaVGQ",
        "outputId": "9367e8e6-5587-429d-aaa1-a076027444ea"
      },
      "execution_count": 21,
      "outputs": [
        {
          "output_type": "stream",
          "name": "stdout",
          "text": [
            "nn: 10 cities ⇒ tour length 2792 (in 0.000 sec)\n"
          ]
        },
        {
          "output_type": "display_data",
          "data": {
            "image/png": "[encoded data removed]",
            "text/plain": [
              "<Figure size 432x288 with 1 Axes>"
            ]
          },
          "metadata": {
            "needs_background": "light"
          }
        }
      ]
    }
  ]
}