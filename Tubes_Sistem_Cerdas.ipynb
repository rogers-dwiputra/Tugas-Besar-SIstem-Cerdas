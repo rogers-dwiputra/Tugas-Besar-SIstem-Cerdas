{
  "nbformat": 4,
  "nbformat_minor": 0,
  "metadata": {
    "colab": {
      "name": "Tubes Sistem Cerdas.ipynb",
      "provenance": [],
      "collapsed_sections": []
    },
    "kernelspec": {
      "name": "python3",
      "display_name": "Python 3"
    },
    "language_info": {
      "name": "python"
    }
  },
  "cells": [
    {
      "cell_type": "code",
      "source": [
        "# Imports\n",
        "%matplotlib inline\n",
        "import matplotlib.pyplot as plt\n",
        "import random\n",
        "import numpy as np\n",
        "from time        import process_time \n",
        "from itertools   import permutations, combinations\n",
        "from functools   import lru_cache as cache\n",
        "from collections import Counter\n",
        "from statistics  import mean, median"
      ],
      "metadata": {
        "id": "wEe87xy-aaOA"
      },
      "execution_count": 1,
      "outputs": []
    },
    {
      "cell_type": "code",
      "source": [
        "#Definisikan data Cities (random) bagian ini yang harus kita ganti menjadi data pelanggan dari PDAM\n",
        "\n",
        "alltours = permutations \n",
        "\n",
        "def tour_length(tour):\n",
        "    \"\"\"The total of distances between each pair of consecutive cities in the tour.\n",
        "    This includes the last-to-first, distance(tour[-1], tour[0])\"\"\"\n",
        "    return sum(distance(tour[i - 1], tour[i]) \n",
        "               for i in range(len(tour)))\n",
        "\n",
        "City = complex\n",
        "\n",
        "def distance(A, B): return abs(A - B)\n",
        "\n",
        "def Cities(n, seed=123, width=999, height=666):\n",
        "    \"Make a set of n cities, sampled uniformly from a (width x height) rectangle.\"\n",
        "    random.seed((n, seed))\n",
        "    return frozenset(City(random.randint(1, width), random.randint(1, height))\n",
        "                     for c in range(n))"
      ],
      "metadata": {
        "id": "Z07TdwFKa6nB"
      },
      "execution_count": 2,
      "outputs": []
    },
    {
      "cell_type": "code",
      "source": [
        "from math import radians, cos, sin, asin, sqrt\n",
        "#Haversine Formula (untuk mengukur jarak antara 2 kordinat dengan menarik garis lurus pada titik bumi)\n",
        "def haversine(lon1, lat1, lon2, lat2):\n",
        "    \"\"\"\n",
        "    Calculate the great circle distance in kilometers between two points \n",
        "    on the earth (specified in decimal degrees)\n",
        "    \"\"\"\n",
        "    # convert decimal degrees to radians \n",
        "    lon1, lat1, lon2, lat2 = map(radians, [lon1, lat1, lon2, lat2])\n",
        "\n",
        "    # haversine formula \n",
        "    dlon = lon2 - lon1 \n",
        "    dlat = lat2 - lat1 \n",
        "    a = sin(dlat/2)**2 + cos(lat1) * cos(lat2) * sin(dlon/2)**2\n",
        "    c = 2 * asin(sqrt(a)) \n",
        "    r = 6371 # Radius of earth in kilometers. Use 3956 for miles. Determines return value units.\n",
        "    return c * r * 100 # Ubah ke meter"
      ],
      "metadata": {
        "id": "YScxN5vT4BQa"
      },
      "execution_count": 3,
      "outputs": []
    },
    {
      "cell_type": "code",
      "source": [
        "#Definisikan Titik Kunjungan\n",
        "customers = [\n",
        "             [\"1\", \"Kantor PDAM\", -7.548240, 111.658970],\n",
        "             [\"1000000235\", \"ABDULLAH HASAN, H\", -7.6243582, 111.4898561],\n",
        "             [\"1000000322\", \"SUKRI\", -7.6264483, 111.4921134],\n",
        "             [\"1000000228\", \"SUYANTO\", -7.6284169, 111.4949986],\n",
        "             [\"1000000222\", \"MOCH YASIN\", -7.6251153, 111.4870914],\n",
        "             [\"1000000211\", \"DJUMARI\", -7.6246128, 111.4863572]\n",
        "]\n",
        "\n",
        "#Bikin Array Jarak\n",
        "distancesArray = []\n",
        "for customer in customers:\n",
        "  collumns = []\n",
        "  for neighbor in customers :\n",
        "    #print(customer[1]+\" - \"+neighbor[1])\n",
        "    collumns.append(haversine(customer[2], customer[3], neighbor[2], neighbor[3]))\n",
        "  distancesArray.append(collumns)\n",
        "\n",
        "for row in distancesArray:\n",
        "    print(*row)\n",
        "#haversine(customers[0][2], customers[0][3], customers[1][2], customers[1][2])"
      ],
      "metadata": {
        "colab": {
          "base_uri": "https://localhost:8080/"
        },
        "id": "RoV0_nud2eJ1",
        "outputId": "3f079420-5a64-444a-fcbd-256eef0fc078"
      },
      "execution_count": 34,
      "outputs": [
        {
          "output_type": "stream",
          "name": "stdout",
          "text": [
            "0.0 1906.0414195564383 1882.7180520817415 1852.521536262969 1936.8742244217244 1944.598643121538\n",
            "1906.0414195564383 0.0 26.50483957628938 59.52464246089284 30.896349368680287 38.9198112318175\n",
            "1882.7180520817415 26.50483957628938 0.0 33.06929615114777 56.10546211806835 64.44122516938322\n",
            "1852.521536262969 59.52464246089284 33.06929615114777 0.0 88.94680059589619 97.32955031438047\n",
            "1936.8742244217244 30.896349368680287 56.10546211806835 88.94680059589619 0.0 8.41656122092674\n",
            "1944.598643121538 38.9198112318175 64.44122516938322 97.32955031438047 8.41656122092674 0.0\n"
          ]
        }
      ]
    },
    {
      "cell_type": "code",
      "source": [
        "#Definisikan fungsi untuk Plot Tampilan, fungsi ini tidak kita pakai lagi kalau sudah menggunakan data PDAM, kita akan menggunakan tampilan dari Google Maps\n",
        "\n",
        "def plot_tour(tour, style='bo-'): \n",
        "    \"Plot every city and link in the tour, and highlight start city.\"\n",
        "    if len(tour) > 1000: plt.figure(figsize=(15, 10))\n",
        "    start = tour[0:1]\n",
        "    plot_segment(tour + start, style)\n",
        "    plot_segment(start, 'rD') # start city is red Diamond.\n",
        "\n",
        "def plot_segment(segment, style='bo-'):\n",
        "    \"Plot every city and link in the segment.\"\n",
        "    plt.plot([X(c) for c in segment], [Y(c) for c in segment], style, clip_on=False)\n",
        "    plt.axis('scaled')\n",
        "    plt.axis('off')\n",
        "\n",
        "def X(city): \"X coordinate.\"; return city.real\n",
        "def Y(city): \"Y coordinate.\"; return city.imag"
      ],
      "metadata": {
        "id": "sAUDr68-bvke"
      },
      "execution_count": 5,
      "outputs": []
    },
    {
      "cell_type": "code",
      "source": [
        "#Function do (bawaan dari contoh kodingan, ini melakukan perhitungan waktu proses, panggil nama algorimanya dan plot tampilan)\n",
        "\n",
        "def do(algorithm, cities):\n",
        "    \"Apply a TSP algorithm to cities, plot the result, and print info.\"\n",
        "    t0   = process_time()\n",
        "    tour = nn_tsp(cities)\n",
        "    t1   = process_time()\n",
        "    assert Counter(tour) == Counter(cities) # Every city appears exactly once in tour\n",
        "    plot_tour(tour)\n",
        "    print(tour)\n",
        "    print(\"NN: {} cities ⇒ tour length {:.0f} (in {:.3f} sec)\".format(len(tour), tour_length(tour), t1 - t0))\n",
        "    \n",
        "#def name(algorithm): return algorithm.__name__.replace('_tsp', '')"
      ],
      "metadata": {
        "id": "bcTVpdnsapav"
      },
      "execution_count": 6,
      "outputs": []
    },
    {
      "cell_type": "code",
      "execution_count": 11,
      "metadata": {
        "id": "4yPR0HHGaIsx"
      },
      "outputs": [],
      "source": [
        "#Function Nearest Neighbor, ini inti dari Tubes kita\n",
        "\n",
        "def nn_tsp(cities, start=None):\n",
        "    \"\"\"Start the tour at the given start city (default: first city); \n",
        "    at each step extend the tour by moving from the previous city \n",
        "    to its nearest neighbor that has not yet been visited.\"\"\"\n",
        "    C = start or first(cities)\n",
        "    tour = [C]\n",
        "    unvisited = set(cities - {C})\n",
        "    print(unvisited)\n",
        "    while unvisited:\n",
        "        C = nearest_neighbor(C, unvisited)\n",
        "        tour.append(C)\n",
        "        unvisited.remove(C)\n",
        "    return tour\n",
        "\n",
        "def first(collection): return next(iter(collection))\n",
        "\n",
        "def nearest_neighbor(A, cities):\n",
        "    \"Find the city in cities that is nearest to city A.\"\n",
        "    return min(cities, key=lambda C: distance(C, A))"
      ]
    },
    {
      "cell_type": "code",
      "source": [
        "#Panggil Functionnya disini\n",
        "#Cities(10)\n",
        "#do(nn_tsp, Cities(10))\n",
        "\n",
        "tour = []\n",
        "visited = []\n",
        "for customer in customers:\n",
        "  shortestDistance = 0\n",
        "  for neighbor in customers :\n",
        "    distance = haversine(customer[2], customer[3], neighbor[2], neighbor[3])\n",
        "    if(customer[0] != neighbor[0]):\n",
        "      if customer[0] not in visited:\n",
        "        if(shortestDistance == 0):\n",
        "          shortestDistance = distance\n",
        "          i = customer[1]\n",
        "          j = neighbor[1]\n",
        "          print(\"{} - {} : {:.3f} Meter\".format(i, j, distance))\n",
        "        elif(shortestDistance > distance):\n",
        "          shortestDistance = distance\n",
        "          i = customer[1]\n",
        "          j = neighbor[1]\n",
        "          print(\"{} - {} : {:.3f} Meter\".format(i, j, distance))\n",
        "  print(\"Shortest {} - {} : {:.3f} Meter\\n\".format(i, j, shortestDistance))\n",
        "  tour.append([i,j])\n",
        "\n",
        "#print(\"\\n{} - {} : {:.3f} Meter\".format(i, j, distance))\n",
        "print(tour)\n"
      ],
      "metadata": {
        "colab": {
          "base_uri": "https://localhost:8080/"
        },
        "id": "BhRw6ZlBaVGQ",
        "outputId": "df8da8c6-7948-44f5-e34f-53a2efb8f96b"
      },
      "execution_count": 71,
      "outputs": [
        {
          "output_type": "stream",
          "name": "stdout",
          "text": [
            "Kantor PDAM - ABDULLAH HASAN, H : 1906.041 Meter\n",
            "Kantor PDAM - SUKRI : 1882.718 Meter\n",
            "Kantor PDAM - SUYANTO : 1852.522 Meter\n",
            "Shortest Kantor PDAM - SUYANTO : 1852.522 Meter\n",
            "\n",
            "ABDULLAH HASAN, H - Kantor PDAM : 1906.041 Meter\n",
            "ABDULLAH HASAN, H - SUKRI : 26.505 Meter\n",
            "Shortest ABDULLAH HASAN, H - SUKRI : 26.505 Meter\n",
            "\n",
            "SUKRI - Kantor PDAM : 1882.718 Meter\n",
            "SUKRI - ABDULLAH HASAN, H : 26.505 Meter\n",
            "Shortest SUKRI - ABDULLAH HASAN, H : 26.505 Meter\n",
            "\n",
            "SUYANTO - Kantor PDAM : 1852.522 Meter\n",
            "SUYANTO - ABDULLAH HASAN, H : 59.525 Meter\n",
            "SUYANTO - SUKRI : 33.069 Meter\n",
            "Shortest SUYANTO - SUKRI : 33.069 Meter\n",
            "\n",
            "MOCH YASIN - Kantor PDAM : 1936.874 Meter\n",
            "MOCH YASIN - ABDULLAH HASAN, H : 30.896 Meter\n",
            "MOCH YASIN - DJUMARI : 8.417 Meter\n",
            "Shortest MOCH YASIN - DJUMARI : 8.417 Meter\n",
            "\n",
            "DJUMARI - Kantor PDAM : 1944.599 Meter\n",
            "DJUMARI - ABDULLAH HASAN, H : 38.920 Meter\n",
            "DJUMARI - MOCH YASIN : 8.417 Meter\n",
            "Shortest DJUMARI - MOCH YASIN : 8.417 Meter\n",
            "\n",
            "[['Kantor PDAM', 'SUYANTO'], ['ABDULLAH HASAN, H', 'SUKRI'], ['SUKRI', 'ABDULLAH HASAN, H'], ['SUYANTO', 'SUKRI'], ['MOCH YASIN', 'DJUMARI'], ['DJUMARI', 'MOCH YASIN']]\n"
          ]
        }
      ]
    }
  ]
}